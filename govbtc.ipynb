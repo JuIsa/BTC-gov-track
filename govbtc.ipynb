{
  "nbformat": 4,
  "nbformat_minor": 0,
  "metadata": {
    "colab": {
      "provenance": [],
      "authorship_tag": "ABX9TyMLmi8ldBS5CYlstsrVbFWN",
      "include_colab_link": true
    },
    "kernelspec": {
      "name": "python3",
      "display_name": "Python 3"
    },
    "language_info": {
      "name": "python"
    }
  },
  "cells": [
    {
      "cell_type": "markdown",
      "metadata": {
        "id": "view-in-github",
        "colab_type": "text"
      },
      "source": [
        "<a href=\"https://colab.research.google.com/github/JuIsa/BTC-gov-track/blob/main/govbtc.ipynb\" target=\"_parent\"><img src=\"https://colab.research.google.com/assets/colab-badge.svg\" alt=\"Open In Colab\"/></a>"
      ]
    },
    {
      "cell_type": "code",
      "execution_count": null,
      "metadata": {
        "id": "6mJTOftfsetU",
        "colab": {
          "base_uri": "https://localhost:8080/"
        },
        "outputId": "2f7d2ed2-11ad-4ba5-8e1b-d607e2dd1e5a"
      },
      "outputs": [
        {
          "output_type": "stream",
          "name": "stdout",
          "text": [
            "Looking in indexes: https://pypi.org/simple, https://us-python.pkg.dev/colab-wheels/public/simple/\n",
            "Collecting blockcypher\n",
            "  Downloading blockcypher-1.0.93-py3-none-any.whl (31 kB)\n",
            "Requirement already satisfied: requests<3.0.0 in /usr/local/lib/python3.10/dist-packages (from blockcypher) (2.27.1)\n",
            "Requirement already satisfied: python-dateutil<3.0.0 in /usr/local/lib/python3.10/dist-packages (from blockcypher) (2.8.2)\n",
            "Collecting bitcoin==1.1.39 (from blockcypher)\n",
            "  Downloading bitcoin-1.1.39.tar.gz (27 kB)\n",
            "  Preparing metadata (setup.py) ... \u001b[?25l\u001b[?25hdone\n",
            "Requirement already satisfied: six>=1.5 in /usr/local/lib/python3.10/dist-packages (from python-dateutil<3.0.0->blockcypher) (1.16.0)\n",
            "Requirement already satisfied: urllib3<1.27,>=1.21.1 in /usr/local/lib/python3.10/dist-packages (from requests<3.0.0->blockcypher) (1.26.15)\n",
            "Requirement already satisfied: certifi>=2017.4.17 in /usr/local/lib/python3.10/dist-packages (from requests<3.0.0->blockcypher) (2022.12.7)\n",
            "Requirement already satisfied: charset-normalizer~=2.0.0 in /usr/local/lib/python3.10/dist-packages (from requests<3.0.0->blockcypher) (2.0.12)\n",
            "Requirement already satisfied: idna<4,>=2.5 in /usr/local/lib/python3.10/dist-packages (from requests<3.0.0->blockcypher) (3.4)\n",
            "Building wheels for collected packages: bitcoin\n",
            "  Building wheel for bitcoin (setup.py) ... \u001b[?25l\u001b[?25hdone\n",
            "  Created wheel for bitcoin: filename=bitcoin-1.1.39-py3-none-any.whl size=28421 sha256=f780e989ff617315f92617b3a282d48d17509ff31854b87caced2662fb517075\n",
            "  Stored in directory: /root/.cache/pip/wheels/83/49/59/01dd3687ca261b46deea85b14c12280c451fc717089775a3ca\n",
            "Successfully built bitcoin\n",
            "Installing collected packages: bitcoin, blockcypher\n",
            "Successfully installed bitcoin-1.1.39 blockcypher-1.0.93\n"
          ]
        }
      ],
      "source": [
        "!pip install blockcypher\n",
        "import requests, re\n",
        "from bs4 import BeautifulSoup\n",
        "from time import sleep\n",
        "from blockcypher import get_address_overview"
      ]
    },
    {
      "cell_type": "code",
      "source": [
        "def last_trx(soup):\n",
        "  block = soup.find('div',class_='well section')\n",
        "  divs = block.findAll('div')\n",
        "  text = divs[-1].text.replace('\\n','')\n",
        "  res = re.search('([0-9]+.[0-9]+)',text)\n",
        "  return res"
      ],
      "metadata": {
        "id": "liSWpc5KsuWk"
      },
      "execution_count": null,
      "outputs": []
    },
    {
      "cell_type": "code",
      "source": [
        "def isSent(soup):\n",
        "  sent = soup.findAll('span',class_='dash-label')\n",
        "  text = sent[1].parent.text.replace('\\n','')\n",
        "  res = re.search('([0-9]+.[0-9]+)',text)\n",
        "  return float(res.group(0).replace(',','.'))>0.0"
      ],
      "metadata": {
        "id": "4hpFTBkRtJGL"
      },
      "execution_count": null,
      "outputs": []
    },
    {
      "cell_type": "code",
      "source": [
        "def isSentApi(adr):\n",
        "  sent = get_address_overview(adr)\n",
        "  if sent['unconfirmed_n_tx']!=0:\n",
        "    return (True, sent)\n",
        "  return (False,sent)\n"
      ],
      "metadata": {
        "id": "yigQeWQT6BHe"
      },
      "execution_count": null,
      "outputs": []
    },
    {
      "cell_type": "code",
      "source": [
        "def checkbalances(btcs):\n",
        "  global bot\n",
        "  global piperid\n",
        "  for btc in btcs:\n",
        "    status = isSentApi(btc)\n",
        "    if status[0]==False:\n",
        "      bot.send_message(piperid, 'No movement')\n",
        "      # print(status[1]['total_sent']/100000000)\n",
        "      \n",
        "    else:\n",
        "      short = 'FUCKING SHOOOOORT\\n'\n",
        "      unconf = str(status[1]['unconfirmed_n_tx'])+' tranasction sent\\n'\n",
        "      unconf_balance = str(status[1]['unconfirmed_balance']/100000000)+' btc sent\\n'\n",
        "      scan = 'https://www.blockchain.com/ru/explorer/addresses/btc/'+btc+'\\n'\n",
        "      msg = short+unconf+unconf_balance+scan\n",
        "      bot.send_message(piperid, msg)\n",
        "    sleep(2)"
      ],
      "metadata": {
        "id": "zHyHb8B6yuRW"
      },
      "execution_count": null,
      "outputs": []
    },
    {
      "cell_type": "code",
      "source": [
        "url= 'https://live.blockcypher.com/btc/address/'\n",
        "token = 'ec7f14f9b3a24faf9e74584e01b99707'\n",
        "gov = ['bc1qa5wkgaew2dkv56kfvj49j0av5nml45x9ek9hz6',\n",
        "       'bc1qf2yvj48mzkj7uf8lc2a9sa7w983qe256l5c8fs',\n",
        "      #  'bc1q5mchltyvgg7kpzpnhyzqzcfymjr57lcgnxznd8',\n",
        "       'bc1qe7nk2nlnjewghgw4sgm0r89zkjzsurda7z4rdg',\n",
        "        'bc1qmxjefnuy06v345v6vhwpwt05dztztmx4g3y7wp'] #sent to second wallet\n",
        "gox = ['1G23Uzwj55k2A9TRwaTknqGav66oDTkWCu',\n",
        "       '13ahgw8sM95EDbugT3tdb8TYoMU46Uw7PX',\n",
        "       '1PRXQEoL8vzEzoJJ9hbtAP6NaV2daccAUn',\n",
        "       '1PxGTuJzDx1ceFHx4Z5CHaWuhiPBNovmZD',\n",
        "       '1Ar6meJQCkNoC9wnPcyRNNpzX5fBDaGcKd',]\n",
        "while True:\n",
        "  checkbalances(gov)\n",
        "  checkbalances(gox)\n",
        "  sleep(30)"
      ],
      "metadata": {
        "id": "qyxtrgCnsk_N"
      },
      "execution_count": null,
      "outputs": []
    },
    {
      "cell_type": "code",
      "source": [],
      "metadata": {
        "id": "tTQZmWNjOMxc"
      },
      "execution_count": null,
      "outputs": []
    },
    {
      "cell_type": "code",
      "source": [
        "!pip install pyTelegramBotApi\n"
      ],
      "metadata": {
        "id": "xeKFR5cUIJWw"
      },
      "execution_count": null,
      "outputs": []
    },
    {
      "cell_type": "code",
      "source": [
        "import telebot\n"
      ],
      "metadata": {
        "id": "K5D0suYAuW1N"
      },
      "execution_count": null,
      "outputs": []
    },
    {
      "cell_type": "code",
      "source": [
        "token = '6286019603:AAG7PPUmF3zmgsDkrr6Pzn6Yal8Xn6M_NQc'"
      ],
      "metadata": {
        "id": "clTAWSwRIe_Y"
      },
      "execution_count": null,
      "outputs": []
    },
    {
      "cell_type": "code",
      "source": [
        "bot = telebot.TeleBot(token)\n",
        "piperid = -326024158\n",
        "# -326024158"
      ],
      "metadata": {
        "id": "FI20XiSrIfQ6"
      },
      "execution_count": null,
      "outputs": []
    },
    {
      "cell_type": "code",
      "source": [
        "@bot.message_handler(commands = ['start'])\n",
        "def start_command(message):\n",
        "    print(message.chat.id,flush=True)\n",
        "    bot.send_message(message.chat.id, 'Bot started, wait for signal\\n'+str(message.chat.id))\n",
        "  \n",
        "@bot.message_handler(commands = ['go' ])\n",
        "def start_command(message):\n",
        "    global piperid \n",
        "    print(message.chat.id,flush=True)\n",
        "    m = 'Bot started, wait \\n'+str(message.chat.id)\n",
        "    piperid = message.chat.id\n",
        "    bot.send_message(message.chat.id, m)\n"
      ],
      "metadata": {
        "id": "LDrxBnAuIfXQ"
      },
      "execution_count": null,
      "outputs": []
    },
    {
      "cell_type": "code",
      "source": [
        "bot.polling()"
      ],
      "metadata": {
        "colab": {
          "base_uri": "https://localhost:8080/"
        },
        "id": "FUpam4IIKOlN",
        "outputId": "9c4b26dd-1c8d-4c3c-9628-91719f0f9e15"
      },
      "execution_count": null,
      "outputs": [
        {
          "output_type": "stream",
          "name": "stdout",
          "text": [
            "89053253\n",
            "-326024158\n"
          ]
        }
      ]
    },
    {
      "cell_type": "code",
      "source": [
        "\n",
        "g = get_address_overview('1DEP8i3QJCsomS4BSMY2RpU1upv62aGvhD')\n",
        "g\n",
        "# {\n",
        "#     \"address\": \"1DEP8i3QJCsomS4BSMY2RpU1upv62aGvhD\",\n",
        "#     \"balance\": 4433416,\n",
        "#     \"final_balance\": 4433416,\n",
        "#     \"final_n_tx\": 7,\n",
        "#     \"n_tx\": 7,\n",
        "#     \"total_received\": 4433416,\n",
        "#     \"total_sent\": 0,\n",
        "#     \"unconfirmed_balance\": 0,\n",
        "#     \"unconfirmed_n_tx\": 0\n",
        "# }"
      ],
      "metadata": {
        "id": "aUdHHEob5wPf"
      },
      "execution_count": null,
      "outputs": []
    },
    {
      "cell_type": "code",
      "source": [],
      "metadata": {
        "id": "-45PP4-Q54od"
      },
      "execution_count": null,
      "outputs": []
    },
    {
      "cell_type": "code",
      "source": [],
      "metadata": {
        "id": "KpoS-LNnLsk4"
      },
      "execution_count": null,
      "outputs": []
    },
    {
      "cell_type": "code",
      "source": [],
      "metadata": {
        "id": "x0mXcDXROyko"
      },
      "execution_count": null,
      "outputs": []
    },
    {
      "cell_type": "code",
      "source": [],
      "metadata": {
        "id": "d-aGn3f-O-n5"
      },
      "execution_count": null,
      "outputs": []
    },
    {
      "cell_type": "code",
      "source": [],
      "metadata": {
        "id": "Vn0kJPCPQInw"
      },
      "execution_count": null,
      "outputs": []
    },
    {
      "cell_type": "code",
      "source": [],
      "metadata": {
        "id": "MN4Po-qW0p1d"
      },
      "execution_count": null,
      "outputs": []
    }
  ]
}